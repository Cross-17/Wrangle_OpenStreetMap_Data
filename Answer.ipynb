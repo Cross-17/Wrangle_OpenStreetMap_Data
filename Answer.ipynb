{
 "cells": [
  {
   "cell_type": "markdown",
   "metadata": {},
   "source": [
    "# Wrangling OpenStreetMap Data"
   ]
  },
  {
   "cell_type": "markdown",
   "metadata": {
    "collapsed": false
   },
   "source": [
    "## Map Area\n",
    " Southampton,UK\n",
    "* https://www.openstreetmap.org/relation/127864\n",
    "\n",
    "The OML file is 63.9 MB\n",
    "\n",
    "This is the place I got my Master degree in Computer Science. It's a small city famous for its education, and I spend around 1 year study here."
   ]
  },
  {
   "cell_type": "markdown",
   "metadata": {},
   "source": [
    "## Process of Project\n",
    "After downloading the OML file, I firstly explore the dataset, by auditing the address field in all way and node tags. For example, in audit.py, I inspect all the postcode and street type in the dataset, and ensures that they conform to the correct format.\n",
    "\n",
    "Then I read all the data from OML file, store them in python dictionary format, correcting the error data found on the auditing phase, and saving all corrected data into csv file. All code in this phase could be found on process.py\n",
    "\n",
    "Lastly I import all the csv file into sqlite database on the sqlite3 command line, and explore the data with all kinds of SQL command."
   ]
  },
  {
   "cell_type": "markdown",
   "metadata": {
    "collapsed": false
   },
   "source": [
    "## Problems encountered in  map\n",
    "I audited lots of field in this dataset and surprisingly find that this dataset is overall quite clean.\n",
    "\n",
    "\n",
    "### Street name field\n",
    "One problem I encountered in the map is inconsistent street type name ('Bluebell Raod','Bluebell road','Bellevue Rd' etc)\n",
    "\n",
    "Here is how I fix this in code:"
   ]
  },
  {
   "cell_type": "code",
   "execution_count": null,
   "metadata": {
    "collapsed": true
   },
   "outputs": [],
   "source": [
    "mapping = { \"Raod\": \"Road\",\n",
    "            \"road\": \"Road\",\n",
    "            \"Rd\": \"Road\",\n",
    "            \"Rd.\": \"Road\",\n",
    "            }\n",
    "def update_name(name, mapping):\n",
    "    for key in mapping.keys():\n",
    "        if key in name and not mapping[key] in name:\n",
    "            name = name.replace(key,mapping[key])\n",
    "    return name"
   ]
  },
  {
   "cell_type": "markdown",
   "metadata": {},
   "source": [
    "Another problem in the street name field is that there are some strange number or character (\"387\",\"S\") in the steet field, which I have no idea to deal with."
   ]
  },
  {
   "cell_type": "markdown",
   "metadata": {},
   "source": [
    "###  phone number field\n",
    "When auditing phone number field, I found that there is also inconsistance in the phone number format.    \n",
    "\n",
    "The full phone number should be country code(+44) plus district code(23) plus eight phone number digit. e.g. (+442312345678) is valid full phone number.    \n",
    "\n",
    "However in this dataset, some phone number don't have country code('023 8033 3778')， some have seperate in the middle in phopne number digit while some don't have space seperation at all  ('+44 23 8055 5566' vs '+442036450000' ).  Also there are other strange seperation rules in the dataset ('+44 2380 637 915' and '+44-23-8022-1436')\n",
    "\n",
    "Here is how I fix this in code:"
   ]
  },
  {
   "cell_type": "code",
   "execution_count": null,
   "metadata": {
    "collapsed": true
   },
   "outputs": [],
   "source": [
    "def update_format(phone):\n",
    "    'update phone number to make them have format like \"+4423xxxxxxxx\" '\n",
    "    #delete spece and - seperator. case :'+44 23 8055 5566'\n",
    "    phone = phone.replace(\" \",\"\")\n",
    "    phone = phone.relace(\"-\",\"\")\n",
    "    \n",
    "    # case: '+44 (0) 2380 489 126'\n",
    "    phone = phone.relace(\"(0)\",\"\")\n",
    "    \n",
    "    #case: '023 8076 4810'\n",
    "    if phoone[0] == 0:\n",
    "        phone = '+44' + phone[1:]\n",
    "    return phone"
   ]
  },
  {
   "cell_type": "markdown",
   "metadata": {},
   "source": [
    "## Overview of the data\n",
    "### Size of files"
   ]
  },
  {
   "cell_type": "code",
   "execution_count": 44,
   "metadata": {
    "collapsed": false
   },
   "outputs": [
    {
     "name": "stdout",
     "output_type": "stream",
     "text": [
      "nodes.csv:\n",
      "22.3287258148 MB\n",
      " \n",
      "nodes_tags.csv:\n",
      "0.774829864502 MB\n",
      " \n",
      "southampton_england.osm:\n",
      "63.9946393967 MB\n",
      " \n",
      "sqlite.db:\n",
      "38.3193359375 MB\n",
      " \n",
      "ways.csv:\n",
      "3.10630226135 MB\n",
      " \n",
      "ways_nodes.csv:\n",
      "8.90686416626 MB\n",
      " \n",
      "ways_tags.csv:\n",
      "6.02402973175 MB\n",
      " \n"
     ]
    }
   ],
   "source": [
    "import os\n",
    "files = os.listdir(os.getcwd())\n",
    "interested = ['csv','osm','db']\n",
    "for item in files:\n",
    "    for extention in interested:\n",
    "        if extention in item:\n",
    "            print item+\":\"\n",
    "            print os.path.getsize(item)/1024.0/1024.0,\"MB\"\n",
    "            print \" \""
   ]
  },
  {
   "cell_type": "markdown",
   "metadata": {},
   "source": [
    "### Number of nodes"
   ]
  },
  {
   "cell_type": "code",
   "execution_count": 1,
   "metadata": {
    "collapsed": false
   },
   "outputs": [],
   "source": [
    "import sqlite3\n",
    "db = sqlite3.connect('sqlite.db')\n",
    "\n",
    "def makequery(query):\n",
    "    \"accept and run the query, then print out results\"\n",
    "    c = db.cursor()\n",
    "    c.execute(query)\n",
    "    rows = c.fetchall()\n",
    "    for row in rows:\n",
    "        print row"
   ]
  },
  {
   "cell_type": "code",
   "execution_count": 106,
   "metadata": {
    "collapsed": false
   },
   "outputs": [
    {
     "name": "stdout",
     "output_type": "stream",
     "text": [
      "(273444,)\n"
     ]
    }
   ],
   "source": [
    "query = '''\n",
    "select count() from nodes\n",
    "'''\n",
    "makequery(query)"
   ]
  },
  {
   "cell_type": "markdown",
   "metadata": {},
   "source": [
    "### Number of ways"
   ]
  },
  {
   "cell_type": "code",
   "execution_count": 107,
   "metadata": {
    "collapsed": false
   },
   "outputs": [
    {
     "name": "stdout",
     "output_type": "stream",
     "text": [
      "(51489,)\n"
     ]
    }
   ],
   "source": [
    "query = '''\n",
    "select count() from ways\n",
    "'''\n",
    "makequery(query)"
   ]
  },
  {
   "cell_type": "markdown",
   "metadata": {},
   "source": [
    "### Number of unique users"
   ]
  },
  {
   "cell_type": "code",
   "execution_count": 108,
   "metadata": {
    "collapsed": false
   },
   "outputs": [
    {
     "name": "stdout",
     "output_type": "stream",
     "text": [
      "(273842,)\n"
     ]
    }
   ],
   "source": [
    "query = '''\n",
    "select count() from \n",
    "(select uid from nodes \n",
    "UNION ALL\n",
    "select uid from ways\n",
    "group by uid) as view;\n",
    "'''\n",
    "makequery(query)"
   ]
  },
  {
   "cell_type": "markdown",
   "metadata": {},
   "source": [
    "### Top 10 contributing users"
   ]
  },
  {
   "cell_type": "code",
   "execution_count": 109,
   "metadata": {
    "collapsed": false
   },
   "outputs": [
    {
     "name": "stdout",
     "output_type": "stream",
     "text": [
      "(u'Chris Baines', 107146)\n",
      "(u'Harjit (CabMyRide)', 24969)\n",
      "(u'0123456789', 23755)\n",
      "(u'Nick Austin', 17677)\n",
      "(u'pcman1985', 14149)\n",
      "(u'Deanna Earley', 13430)\n",
      "(u'Arjan Sahota', 12946)\n",
      "(u'Kuldip (CabMyRide)', 9614)\n",
      "(u'Andy Street', 9181)\n",
      "(u'Harry Cutts', 6675)\n"
     ]
    }
   ],
   "source": [
    "query = '''\n",
    "select view.user,count() as num from \n",
    "(select user from nodes \n",
    "UNION ALL\n",
    "select user from ways) as view\n",
    "group by user\n",
    "order by num desc\n",
    "limit 10\n",
    "'''\n",
    "makequery(query)"
   ]
  },
  {
   "cell_type": "markdown",
   "metadata": {},
   "source": [
    "### Top 10 popupar amenty"
   ]
  },
  {
   "cell_type": "code",
   "execution_count": 110,
   "metadata": {
    "collapsed": false
   },
   "outputs": [
    {
     "name": "stdout",
     "output_type": "stream",
     "text": [
      "(u'post_box', 568)\n",
      "(u'bicycle_parking', 408)\n",
      "(u'telephone', 236)\n",
      "(u'bench', 208)\n",
      "(u'fast_food', 120)\n",
      "(u'atm', 90)\n",
      "(u'pub', 86)\n",
      "(u'restaurant', 86)\n",
      "(u'cafe', 84)\n",
      "(u'waste_basket', 68)\n"
     ]
    }
   ],
   "source": [
    "query = '''\n",
    "select value, count() as num from nodes_tags\n",
    "where key = 'amenity'\n",
    "Group by value\n",
    "Order by num desc\n",
    "limit 10'''\n",
    "makequery(query)"
   ]
  },
  {
   "cell_type": "markdown",
   "metadata": {
    "collapsed": true
   },
   "source": [
    "###  Additional exploration\n",
    "###  Religion"
   ]
  },
  {
   "cell_type": "code",
   "execution_count": 114,
   "metadata": {
    "collapsed": false
   },
   "outputs": [
    {
     "name": "stdout",
     "output_type": "stream",
     "text": [
      "(u'christian', 48)\n",
      "(u'muslim', 8)\n",
      "(u'Multifaith', 2)\n"
     ]
    }
   ],
   "source": [
    "query = '''\n",
    "select value, count() as num\n",
    "from nodes_tags \n",
    "where nodes_tags.key='religion'\n",
    "group by value\n",
    "order by num desc\n",
    "'''\n",
    "makequery(query)"
   ]
  },
  {
   "cell_type": "markdown",
   "metadata": {},
   "source": [
    "### Popular food type"
   ]
  },
  {
   "cell_type": "code",
   "execution_count": 115,
   "metadata": {
    "collapsed": false
   },
   "outputs": [
    {
     "name": "stdout",
     "output_type": "stream",
     "text": [
      "(u'chinese', 36)\n",
      "(u'coffee_shop', 26)\n",
      "(u'fish_and_chips', 22)\n",
      "(u'indian', 16)\n",
      "(u'italian', 14)\n",
      "(u'pizza', 12)\n",
      "(u'sandwich', 12)\n",
      "(u'chicken', 6)\n",
      "(u'kebab', 6)\n",
      "(u'burger', 4)\n",
      "(u'pie', 4)\n",
      "(u'thai', 4)\n",
      "(u'British', 2)\n",
      "(u'american', 2)\n",
      "(u'chinese_food_and_fish_and_chips', 2)\n",
      "(u'greek', 2)\n",
      "(u'spanish', 2)\n",
      "(u'sushi', 2)\n"
     ]
    }
   ],
   "source": [
    "query = '''\n",
    "select value, count() as num from nodes_tags where key = 'cuisine'\n",
    "group by value\n",
    "order by num desc\n",
    "'''\n",
    "makequery(query)"
   ]
  },
  {
   "cell_type": "markdown",
   "metadata": {},
   "source": [
    "### City"
   ]
  },
  {
   "cell_type": "code",
   "execution_count": 116,
   "metadata": {
    "collapsed": false
   },
   "outputs": [
    {
     "name": "stdout",
     "output_type": "stream",
     "text": [
      "(503101329, u'city', u'Southampton', u'addr\\r', 17104)\n",
      "(398218129, u'city', u'Woolston, Southampton', u'addr\\r', 12)\n",
      "(392320664, u'city', u'Netley Abbey', u'addr\\r', 10)\n",
      "(291613728, u'city', u'West End, Southampton', u'addr\\r', 8)\n",
      "(4283133928L, u'city', u'Marchwood, Southampton', u'addr\\r', 6)\n",
      "(445923165, u'city', u'Eastleigh', u'addr\\r', 5)\n",
      "(3768107099L, u'city', u'Bursledon, Southampton', u'addr\\r', 2)\n",
      "(3789048114L, u'city', u'Nursling, Southampton', u'addr\\r', 2)\n",
      "(4944303106L, u'city', u'Solihull', u'addr\\r', 2)\n",
      "(293465469, u'city', u'Thornhill, Southampton', u'addr\\r', 2)\n",
      "(4661365635L, u'city', u'Townhill Park, Southampton', u'addr\\r', 2)\n",
      "(40581969, u'city', u'Bassett', u'addr\\r', 1)\n",
      "(294010101, u'city', u'Bitterne Village, Southampton', u'addr\\r', 1)\n",
      "(265076854, u'city', u'Southampton`', u'addr\\r', 1)\n"
     ]
    }
   ],
   "source": [
    "query = '''\n",
    "SELECT *, COUNT() as count\n",
    "FROM \n",
    "(SELECT * FROM nodes_tags UNION ALL\n",
    "SELECT * FROM ways_tags) as tags\n",
    "WHERE tags.key = 'city'\n",
    "GROUP BY tags.value\n",
    "ORDER BY count DESC\n",
    "'''\n",
    "makequery(query)"
   ]
  },
  {
   "cell_type": "markdown",
   "metadata": {},
   "source": [
    "### Source"
   ]
  },
  {
   "cell_type": "code",
   "execution_count": 119,
   "metadata": {
    "collapsed": false
   },
   "outputs": [
    {
     "name": "stdout",
     "output_type": "stream",
     "text": [
      "(u'Bing', u'regular\\r', 5023)\n",
      "(u'PGS', u'regular\\r', 424)\n",
      "(u'naptan_import', u'regular\\r', 285)\n",
      "(u'Yahoo', u'regular\\r', 268)\n",
      "(u'survey', u'regular\\r', 231)\n",
      "(u'Bing Imagery', u'regular\\r', 166)\n",
      "(u'OS_OpenData_StreetView', u'regular\\r', 140)\n",
      "(u'OS VectorMap District', u'regular\\r', 107)\n",
      "(u'OS_opendata_streetview', u'regular\\r', 73)\n",
      "(u'OS OpenData StreetView', u'regular\\r', 70)\n",
      "(u'bing', u'regular\\r', 66)\n",
      "(u'local_knowledge', u'regular\\r', 49)\n",
      "(u'US NGA Pub. 114. 2011-05-26.', u'regular\\r', 40)\n",
      "(u'Landsat', u'regular\\r', 36)\n",
      "(u'survey,Bing', u'regular\\r', 36)\n",
      "(u'Survey', u'regular\\r', 33)\n",
      "(u'yahoo', u'regular\\r', 30)\n",
      "(u'Yahoo imagery', u'regular\\r', 27)\n",
      "(u'OS_OpenData_Streetview', u'regular\\r', 21)\n",
      "(u'Dashcam survey;Bing Imagery', u'regular\\r', 18)\n",
      "(u'OS_OpenData_Boundary-Line', u'regular\\r', 18)\n",
      "(u'GPS', u'regular\\r', 15)\n",
      "(u'Bing;local_knowledge', u'regular\\r', 14)\n",
      "(u'Bing, Survey', u'regular\\r', 13)\n",
      "(u'www.npemap.org.uk', u'regular\\r', 12)\n",
      "(u'Bing imagery', u'regular\\r', 11)\n",
      "(u'local knowledge', u'regular\\r', 11)\n",
      "(u'GPS trace (bad) and local knowledge', u'regular\\r', 10)\n",
      "(u'survey;bing', u'regular\\r', 10)\n",
      "(u'yahoo;survey', u'regular\\r', 9)\n",
      "(u'OS_OpenData_BoundaryLine', u'regular\\r', 8)\n",
      "(u'Survey;Bing', u'regular\\r', 8)\n",
      "(u'Bing imagery;Local knowledge', u'regular\\r', 7)\n",
      "(u'Bing_Aerial', u'regular\\r', 7)\n",
      "(u'npe', u'regular\\r', 7)\n",
      "(u'WebSite', u'regular\\r', 6)\n",
      "(u'local_knowledge;Bing', u'regular\\r', 6)\n",
      "(u'yahoo; Bing', u'regular\\r', 6)\n",
      "(u'yahoo;knowledge', u'regular\\r', 6)\n",
      "(u'Bing,Ground visit', u'regular\\r', 5)\n",
      "(u'Yahoo Ariel Imagary', u'regular\\r', 5)\n",
      "(u'gas', u'plant\\r', 5)\n",
      "(u'knowledge', u'regular\\r', 5)\n",
      "(u'local_knowledge; Bing', u'regular\\r', 5)\n",
      "(u'local_knowledge; Yahoo', u'regular\\r', 5)\n",
      "(u'Local knowledge', u'regular\\r', 4)\n",
      "(u'bing;OS_OpenData_StreetView', u'regular\\r', 4)\n",
      "(u'interpolation', u'regular\\r', 4)\n",
      "(u'Bing, local visit', u'regular\\r', 3)\n",
      "(u'Bing;OS_OpenData_Streetview', u'regular\\r', 3)\n",
      "(u'Hampshire County Council', u'regular\\r', 3)\n",
      "(u'Local Knowledge', u'regular\\r', 3)\n",
      "(u'os_opendata_streetview', u'regular\\r', 3)\n",
      "(u'survey;yahoo', u'regular\\r', 3)\n",
      "(u'Bing; OS_OpenData_StreetView', u'regular\\r', 2)\n",
      "(u'Bing; Yahoo', u'regular\\r', 2)\n",
      "(u'Bing; survey', u'regular\\r', 2)\n",
      "(u'Bing;OS_OpenData_StreetView', u'regular\\r', 2)\n",
      "(u'Bing_Aerial; Bing', u'regular\\r', 2)\n",
      "(u'GPS trace', u'regular\\r', 2)\n",
      "(u'Local_Knowledge', u'regular\\r', 2)\n",
      "(u'Local_knowledge', u'regular\\r', 2)\n",
      "(u'OS_OpenData_Boundary Maps Extract', u'regular\\r', 2)\n",
      "(u'Own Knowledge', u'regular\\r', 2)\n",
      "(u'Unknown;Bing', u'regular\\r', 2)\n",
      "(u'Yahoo; Local knowledge', u'regular\\r', 2)\n",
      "(u'Yahoo_Aerial', u'regular\\r', 2)\n",
      "(u'http://www.openstreetmap.org/browse/changeset/10537517', u'regular\\r', 2)\n",
      "(u'landsat', u'regular\\r', 2)\n",
      "(u'survey;Bing', u'regular\\r', 2)\n",
      "(u'wind', u'generator\\r', 2)\n",
      "(u'www.isoc.susu.org', u'regular\\r', 2)\n",
      "(u'www.starbucks.co.uk/store/1006110/', u'regular\\r', 2)\n",
      "(u'Bing,local knowledge', u'regular\\r', 1)\n",
      "(u'Bing,survey', u'regular\\r', 1)\n",
      "(u'Bing/local knowledge', u'regular\\r', 1)\n",
      "(u'Bing; yahoo;survey', u'regular\\r', 1)\n",
      "(u'Bing;Gagravarr_Airports', u'regular\\r', 1)\n",
      "(u'Bing;OS OpenData StreetView', u'regular\\r', 1)\n",
      "(u'Bing;local visit', u'regular\\r', 1)\n",
      "(u'Bing;survey', u'regular\\r', 1)\n",
      "(u'Disused', u'regular\\r', 1)\n",
      "(u'GPS survey', u'regular\\r', 1)\n",
      "(u'Groundsource', u'regular\\r', 1)\n",
      "(u'Local', u'regular\\r', 1)\n",
      "(u'My own photos', u'regular\\r', 1)\n",
      "(u'NPE', u'regular\\r', 1)\n",
      "(u'OS Streetview', u'regular\\r', 1)\n",
      "(u'OS_opendata_streetview;Bing', u'regular\\r', 1)\n",
      "(u'OpenStreetView', u'regular\\r', 1)\n",
      "(u'Personal', u'regular\\r', 1)\n",
      "(u'Personal Knowledge', u'regular\\r', 1)\n",
      "(u'Potlatch OS b/g', u'regular\\r', 1)\n",
      "(u'Potlatch background', u'regular\\r', 1)\n",
      "(u'SCC Definitive Statement of Rights of Way April 2012', u'regular\\r', 1)\n",
      "(u'Site visit', u'regular\\r', 1)\n",
      "(u'Yahoo, Bing', u'regular\\r', 1)\n",
      "(u'Yahoo, local_knowledge', u'regular\\r', 1)\n",
      "(u'Yahoo/OS', u'regular\\r', 1)\n",
      "(u'Yahoo/train journey/Bing', u'regular\\r', 1)\n",
      "(u'Yahoo; knowledge; Bing', u'regular\\r', 1)\n",
      "(u'Yahoo; local_knowledge', u'regular\\r', 1)\n",
      "(u'Yahoo;local_knowledge', u'regular\\r', 1)\n",
      "(u'accolade', u'regular\\r', 1)\n",
      "(u'bing plus visit', u'regular\\r', 1)\n",
      "(u'buildings inside tagged as offices', u'regular\\r', 1)\n",
      "(u'charity', u'regular\\r', 1)\n",
      "(u'extrapolation', u'regular\\r', 1)\n",
      "(u'geothermal', u'generator\\r', 1)\n",
      "(u'gps', u'regular\\r', 1)\n",
      "(u'http://www.gleneagles.org.uk/', u'regular\\r', 1)\n",
      "(u'http://www.premier-stores.co.uk/find-our-stores.html', u'regular\\r', 1)\n",
      "(u'landsat/Bing', u'regular\\r', 1)\n",
      "(u'local visit', u'regular\\r', 1)\n",
      "(u'local visit;Bing', u'regular\\r', 1)\n",
      "(u'local_knowledge: Yahoo; Bing', u'regular\\r', 1)\n",
      "(u'resident', u'regular\\r', 1)\n",
      "(u'survey;bing;inferred', u'regular\\r', 1)\n",
      "(u'user knowledge', u'regular\\r', 1)\n",
      "(u'yahoo imagery', u'regular\\r', 1)\n",
      "(u'yahoo;Bing', u'regular\\r', 1)\n",
      "(u'yahoo;knowledge;bing', u'regular\\r', 1)\n"
     ]
    }
   ],
   "source": [
    "query = '''\n",
    "SELECT value,type,COUNT(*) as count\n",
    "FROM \n",
    "(SELECT * FROM nodes_tags UNION ALL\n",
    "SELECT * FROM ways_tags) as tags\n",
    "WHERE tags.key = 'source'\n",
    "GROUP BY value\n",
    "ORDER BY count DESC\n",
    "'''\n",
    "makequery(query)"
   ]
  },
  {
   "cell_type": "markdown",
   "metadata": {},
   "source": [
    "## Additional suggestions & Conclusion"
   ]
  },
  {
   "cell_type": "markdown",
   "metadata": {},
   "source": [
    "Wrangling this dataset gives me a flavour of how the dataset was cleaned, processed and imported into database, and how we could make use of these data. \n",
    "\n",
    "To improve the dataset and it's analysis, I think openstreet map should add a  automatic association system.  \n",
    "\n",
    "Reason: The same thing often appears in the dataset in different ways(e.g. 'Rd'. vs 'Road', Southampton vs 'Southampton`', 'Bing' vs 'bing'). This is often caused by data edited from different user.  \n",
    "If the system could automatically associate a existing common key when user enter a few letter, such error would reduce significantly.  \n",
    "Although the system is effective not hard to write, it is kind of difficult to update all the programs which write data to the Openstreet map project.\n",
    "\n"
   ]
  },
  {
   "cell_type": "markdown",
   "metadata": {
    "collapsed": true
   },
   "source": [
    "## Sources\n",
    "* [Sample project](https://gist.github.com/carlward/54ec1c91b62a5f911c42#openstreetmap-data-case-study)"
   ]
  },
  {
   "cell_type": "code",
   "execution_count": 2,
   "metadata": {
    "collapsed": false,
    "scrolled": false
   },
   "outputs": [
    {
     "name": "stdout",
     "output_type": "stream",
     "text": [
      "(u'+44 23 8023 0292', u'regular\\r', 2)\n",
      "(u'+44 23 8023 1176', u'regular\\r', 2)\n",
      "(u'+44 23 8023 4149;+44 23 8023 4150', u'regular\\r', 2)\n",
      "(u'+44 23 8023 4154;+44 23 8023 4156', u'regular\\r', 2)\n",
      "(u'+44 23 8023 4678;+44 23 8023 4706', u'regular\\r', 2)\n",
      "(u'+44 23 8023 8804', u'regular\\r', 2)\n",
      "(u'+44 23 8040 2838', u'regular\\r', 2)\n",
      "(u'+44 23 8040 4186', u'regular\\r', 2)\n",
      "(u'+44 23 8044 7455', u'regular\\r', 2)\n",
      "(u'+44 23 80447724', u'regular\\r', 2)\n",
      "(u'+44 23 8046 2205', u'regular\\r', 2)\n",
      "(u'+44 23 80584743', u'regular\\r', 2)\n",
      "(u'+44 23 8063 8778', u'regular\\r', 2)\n",
      "(u'+44 23 80775281', u'regular\\r', 2)\n",
      "(u'+44 23 80776410', u'regular\\r', 2)\n",
      "(u'+44 23 8085 8147', u'regular\\r', 2)\n",
      "(u'+44 2380 221303', u'regular\\r', 2)\n",
      "(u'+44 2380 222 252', u'contact\\r', 2)\n",
      "(u'+44 2380 222548', u'regular\\r', 2)\n",
      "(u'+44 2380 223381', u'regular\\r', 2)\n",
      "(u'+44 2380 223949', u'regular\\r', 2)\n",
      "(u'+44 2380 224579', u'regular\\r', 2)\n",
      "(u'+44 2380 225868', u'regular\\r', 2)\n",
      "(u'+44 2380 229500', u'regular\\r', 2)\n",
      "(u'+44 2380 231175', u'regular\\r', 2)\n",
      "(u'+44 2380 233 360', u'contact\\r', 2)\n",
      "(u'+44 2380 236175', u'regular\\r', 2)\n",
      "(u'+44 2380 402889', u'regular\\r', 2)\n",
      "(u'+44 2380 441440', u'regular\\r', 2)\n",
      "(u'+44 2380 447058', u'regular\\r', 2)\n",
      "(u'+44 2380 447287', u'regular\\r', 2)\n",
      "(u'+44 2380 462446', u'regular\\r', 2)\n",
      "(u'+44 2380 472021', u'regular\\r', 2)\n",
      "(u'+44 2380 552612', u'regular\\r', 2)\n",
      "(u'+44 2380 556225', u'regular\\r', 2)\n",
      "(u'+44 2380 557943', u'regular\\r', 2)\n",
      "(u'+44 2380 558578', u'regular\\r', 2)\n",
      "(u'+44 2380 634413', u'regular\\r', 2)\n",
      "(u'+44 2380 637 915', u'regular\\r', 2)\n",
      "(u'+44 2380 639870', u'regular\\r', 2)\n",
      "(u'+44 2380 642553', u'regular\\r', 2)\n",
      "(u'+44 2380 769747', u'regular\\r', 2)\n",
      "(u'+44 2380 772273', u'regular\\r', 2)\n",
      "(u'+44 2380 775289', u'regular\\r', 2)\n",
      "(u'+44 2380 775357', u'regular\\r', 2)\n",
      "(u'+44 2380 986498', u'regular\\r', 2)\n",
      "(u'+44-23-8022-1436', u'regular\\r', 2)\n",
      "(u'+44-23-8022-4000', u'regular\\r', 2)\n",
      "(u'+44-23-8022-4422', u'regular\\r', 2)\n",
      "(u'+44-23-8070-2232', u'regular\\r', 2)\n",
      "(u'+44-23-8071-1700', u'regular\\r', 2)\n",
      "(u'+44-23-8077-1286', u'regular\\r', 2)\n",
      "(u'+44-2380-556563', u'regular\\r', 2)\n",
      "(u'+442380336969', u'regular\\r', 2)\n",
      "(u'+442380434849', u'regular\\r', 2)\n",
      "(u'+442380439528', u'regular\\r', 2)\n",
      "(u'+442380554049', u'regular\\r', 2)\n",
      "(u'+443339997613', u'regular\\r', 2)\n",
      "(u'023 8033 3778', u'contact\\r', 2)\n",
      "(u'023 8076 4810', u'regular\\r', 2)\n",
      "(u'023 8083 9200', u'contact\\r', 2)\n",
      "(u'02380606359', u'regular\\r', 2)\n",
      "(u'02381247024', u'regular\\r', 2)\n",
      "(u'02381247030', u'regular\\r', 2)\n",
      "(u'(023) 8022 4327', u'contact\\r', 1)\n",
      "(u'+44 (0) 2380 489 126', u'contact\\r', 1)\n",
      "(u'+44 (0) 2380 555 044', u'contact\\r', 1)\n",
      "(u'+44 (0) 2380 585 599', u'contact\\r', 1)\n",
      "(u'+44 (0) 2380 677 669', u'contact\\r', 1)\n",
      "(u'+44 (0)23 8033 8941', u'regular\\r', 1)\n",
      "(u'+44 (0)780 2850442', u'regular\\r', 1)\n",
      "(u'+44 23 80223081', u'regular\\r', 1)\n",
      "(u'+44 23 8046 2824', u'regular\\r', 1)\n",
      "(u'+44 23 8046 3538', u'regular\\r', 1)\n",
      "(u'+44 23 8046 3646', u'regular\\r', 1)\n",
      "(u'+44 23 8046 4121', u'regular\\r', 1)\n",
      "(u'+44 23 8046 4686', u'regular\\r', 1)\n",
      "(u'+44 23 80473269', u'regular\\r', 1)\n",
      "(u'+44 23 8055 4400', u'regular\\r', 1)\n",
      "(u'+44 23 8055 5566', u'regular\\r', 1)\n",
      "(u'+44 23 80550508', u'regular\\r', 1)\n",
      "(u'+44 23 8070 2700', u'regular\\r', 1)\n",
      "(u'+44 23 8083 3605', u'regular\\r', 1)\n",
      "(u'+44 2380 225434', u'regular\\r', 1)\n",
      "(u'+44 2380 555393', u'regular\\r', 1)\n",
      "(u'+44 2380 555544', u'regular\\r', 1)\n",
      "(u'+44 2380 558777', u'regular\\r', 1)\n",
      "(u'+44 2380 584019', u'regular\\r', 1)\n",
      "(u'+44 2380 584607', u'regular\\r', 1)\n",
      "(u'+44 2380 679334', u'regular\\r', 1)\n",
      "(u'+44 2380 829216', u'regular\\r', 1)\n",
      "(u'+44 2380 926 300', u'regular\\r', 1)\n",
      "(u'+44 2390 772273', u'regular\\r', 1)\n",
      "(u'+44 7951 671886', u'regular\\r', 1)\n",
      "(u'+44 871 527 9002', u'regular\\r', 1)\n",
      "(u'+44(0)2380 635 830', u'regular\\r', 1)\n",
      "(u'+44-02380-315033', u'regular\\r', 1)\n",
      "(u'+44-23-8022-0183', u'regular\\r', 1)\n",
      "(u'+44-23-8022-2189', u'regular\\r', 1)\n",
      "(u'+44-23-8033-9167', u'regular\\r', 1)\n",
      "(u'+44-23-8045-7462', u'regular\\r', 1)\n",
      "(u'+44-23-8063-4533', u'regular\\r', 1)\n",
      "(u'+44-23-8077-9013', u'regular\\r', 1)\n",
      "(u'+44-23-8124-7026', u'regular\\r', 1)\n",
      "(u'+44-23-8124-7035', u'regular\\r', 1)\n",
      "(u'+44-845-6779626', u'regular\\r', 1)\n",
      "(u'+441483779699', u'regular\\r', 1)\n",
      "(u'+441489786653', u'regular\\r', 1)\n",
      "(u'+442036450000', u'regular\\r', 1)\n",
      "(u'+442380223086', u'regular\\r', 1)\n",
      "(u'+442380224730', u'regular\\r', 1)\n",
      "(u'+442380224761', u'regular\\r', 1)\n",
      "(u'+442380333303', u'regular\\r', 1)\n",
      "(u'+442380434368', u'regular\\r', 1)\n",
      "(u'+442380439475', u'regular\\r', 1)\n",
      "(u'+442380462333', u'regular\\r', 1)\n",
      "(u'+442380462492', u'regular\\r', 1)\n",
      "(u'+442380464055', u'regular\\r', 1)\n",
      "(u'+442380464545', u'regular\\r', 1)\n",
      "(u'+442380473179', u'regular\\r', 1)\n",
      "(u'+442380473489', u'regular\\r', 1)\n",
      "(u'+442380525150', u'regular\\r', 1)\n",
      "(u'+442380530700', u'regular\\r', 1)\n",
      "(u'+442380551199', u'regular\\r', 1)\n",
      "(u'+442380633428', u'regular\\r', 1)\n",
      "(u'+442380638883', u'regular\\r', 1)\n",
      "(u'+443300261021', u'regular\\r', 1)\n",
      "(u'+443334009753', u'regular\\r', 1)\n",
      "(u'+447871506375', u'regular\\r', 1)\n",
      "(u'+448456113397', u'regular\\r', 1)\n",
      "(u'+448456526501;+442380471140', u'regular\\r', 1)\n",
      "(u'023 8000 0601', u'regular\\r', 1)\n",
      "(u'023 8031 5500; 023 8067 1771', u'contact\\r', 1)\n",
      "(u'023 8033 0332', u'regular\\r', 1)\n",
      "(u'02380 232039', u'regular\\r', 1)\n",
      "(u'02380449300', u'regular\\r', 1)\n",
      "(u'02380637847', u'regular\\r', 1)\n",
      "(u'02381247004', u'regular\\r', 1)\n",
      "(u'02381247027', u'regular\\r', 1)\n",
      "(u'02381247029', u'regular\\r', 1)\n",
      "(u'02381247034', u'regular\\r', 1)\n",
      "(u'448719025733', u'regular\\r', 1)\n"
     ]
    }
   ],
   "source": [
    "query = '''\n",
    "SELECT value,type,COUNT(*) as count\n",
    "FROM \n",
    "(SELECT * FROM nodes_tags UNION ALL\n",
    "SELECT * FROM ways_tags) as tags\n",
    "WHERE tags.key = 'phone'\n",
    "GROUP BY value\n",
    "ORDER BY count DESC\n",
    "'''\n",
    "makequery(query)"
   ]
  },
  {
   "cell_type": "code",
   "execution_count": null,
   "metadata": {
    "collapsed": true
   },
   "outputs": [],
   "source": []
  }
 ],
 "metadata": {
  "kernelspec": {
   "display_name": "Python 2",
   "language": "python",
   "name": "python2"
  },
  "language_info": {
   "codemirror_mode": {
    "name": "ipython",
    "version": 2
   },
   "file_extension": ".py",
   "mimetype": "text/x-python",
   "name": "python",
   "nbconvert_exporter": "python",
   "pygments_lexer": "ipython2",
   "version": "2.7.13"
  }
 },
 "nbformat": 4,
 "nbformat_minor": 2
}
